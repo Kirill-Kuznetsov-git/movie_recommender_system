{
 "cells": [
  {
   "cell_type": "code",
   "execution_count": 3,
   "metadata": {},
   "outputs": [],
   "source": [
    "import pandas as pd\n",
    "from sklearn.model_selection import train_test_split"
   ]
  },
  {
   "cell_type": "code",
   "execution_count": 17,
   "metadata": {},
   "outputs": [],
   "source": [
    "RAW_U_DATA_PATH = '../data/raw/ml-100k/u.data'\n",
    "INTERIM_U_TRAIN_PATH = '../data/interim/u.train'\n",
    "INTERIM_U_TEST_PATH = '../data/interim/u.test'"
   ]
  },
  {
   "cell_type": "code",
   "execution_count": 5,
   "metadata": {},
   "outputs": [],
   "source": [
    "columns_name=['user_id','item_id','rating','timestamp']\n",
    "df = pd.read_csv(RAW_U_DATA_PATH,sep=\"\\t\",names=columns_name)\n",
    "df = df[df['rating']>=3]"
   ]
  },
  {
   "cell_type": "markdown",
   "metadata": {},
   "source": [
    "Perform a 80/20 train-test split on the interactions in the dataset"
   ]
  },
  {
   "cell_type": "code",
   "execution_count": 10,
   "metadata": {},
   "outputs": [],
   "source": [
    "train, test = train_test_split(df.values, test_size=0.2, random_state=16)\n",
    "train_df = pd.DataFrame(train, columns=df.columns)\n",
    "test_df = pd.DataFrame(test, columns=df.columns)"
   ]
  },
  {
   "cell_type": "code",
   "execution_count": 11,
   "metadata": {},
   "outputs": [
    {
     "name": "stdout",
     "output_type": "stream",
     "text": [
      "Train Size  :  66016\n",
      "Test Size :  16504\n"
     ]
    }
   ],
   "source": [
    "print(\"Train Size  : \", len(train_df))\n",
    "print(\"Test Size : \", len (test_df))"
   ]
  },
  {
   "cell_type": "markdown",
   "metadata": {},
   "source": [
    "Since we performed the train/test randomly on the interactions, not all users and items may be present in the training set. We will relabel all of users and items to ensure the highest label is the number of users and items, respectively."
   ]
  },
  {
   "cell_type": "code",
   "execution_count": 12,
   "metadata": {},
   "outputs": [],
   "source": [
    "le_user = pp.LabelEncoder()\n",
    "le_item = pp.LabelEncoder()\n",
    "train_df['user_id_idx'] = le_user.fit_transform(train_df['user_id'].values)\n",
    "train_df['item_id_idx'] = le_item.fit_transform(train_df['item_id'].values)"
   ]
  },
  {
   "cell_type": "code",
   "execution_count": 13,
   "metadata": {},
   "outputs": [
    {
     "name": "stdout",
     "output_type": "stream",
     "text": [
      "943 1546\n",
      "16472\n"
     ]
    }
   ],
   "source": [
    "train_user_ids = train_df['user_id'].unique()\n",
    "train_item_ids = train_df['item_id'].unique()\n",
    "\n",
    "print(len(train_user_ids), len(train_item_ids))\n",
    "\n",
    "test_df = test_df[\n",
    "  (test_df['user_id'].isin(train_user_ids)) & \\\n",
    "  (test_df['item_id'].isin(train_item_ids))\n",
    "]\n",
    "print(len(test_df))"
   ]
  },
  {
   "cell_type": "code",
   "execution_count": 14,
   "metadata": {},
   "outputs": [],
   "source": [
    "test_df['user_id_idx'] = le_user.transform(test_df['user_id'].values)\n",
    "test_df['item_id_idx'] = le_item.transform(test_df['item_id'].values)"
   ]
  },
  {
   "cell_type": "code",
   "execution_count": 15,
   "metadata": {},
   "outputs": [
    {
     "name": "stdout",
     "output_type": "stream",
     "text": [
      "Number of Unique Users :  943\n",
      "Number of unique Items :  1546\n"
     ]
    }
   ],
   "source": [
    "n_users = train_df['user_id_idx'].nunique()\n",
    "n_items = train_df['item_id_idx'].nunique()\n",
    "print(\"Number of Unique Users : \", n_users)\n",
    "print(\"Number of unique Items : \", n_items)"
   ]
  },
  {
   "cell_type": "code",
   "execution_count": 21,
   "metadata": {},
   "outputs": [],
   "source": [
    "train_df.to_csv(INTERIM_U_TRAIN_PATH,sep=\"\\t\",index=False)\n",
    "test_df.to_csv(INTERIM_U_TEST_PATH,sep=\"\\t\", index=False)"
   ]
  }
 ],
 "metadata": {
  "kernelspec": {
   "display_name": "base",
   "language": "python",
   "name": "python3"
  },
  "language_info": {
   "codemirror_mode": {
    "name": "ipython",
    "version": 3
   },
   "file_extension": ".py",
   "mimetype": "text/x-python",
   "name": "python",
   "nbconvert_exporter": "python",
   "pygments_lexer": "ipython3",
   "version": "3.10.10"
  }
 },
 "nbformat": 4,
 "nbformat_minor": 2
}
