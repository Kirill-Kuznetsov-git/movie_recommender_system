{
 "cells": [
  {
   "cell_type": "code",
   "execution_count": 60,
   "metadata": {},
   "outputs": [],
   "source": [
    "# Standard library imports\n",
    "import random\n",
    "\n",
    "# Third-party imports\n",
    "import pandas as pd\n",
    "pd.set_option('display.max_colwidth', None)\n",
    "\n",
    "import torch\n",
    "import torch.nn as nn\n",
    "import torch.nn.functional as F\n",
    "from torch_geometric.nn.conv import MessagePassing\n",
    "from torch_geometric.utils import degree\n",
    "\n",
    "from tqdm.notebook import tqdm"
   ]
  },
  {
   "cell_type": "code",
   "execution_count": 2,
   "metadata": {},
   "outputs": [],
   "source": [
    "!cp ../data/interim/u.test ../benchmark/u.test"
   ]
  },
  {
   "cell_type": "code",
   "execution_count": 97,
   "metadata": {},
   "outputs": [],
   "source": [
    "INTERIM_U_TEST_PATH = '../benchmark/u.test'\n",
    "INTERIM_U_TRAIN_PATH = '../data/interim/u.train'\n",
    "MODEL_PATH = '../models/lightgcn.pt'\n",
    "EDGE_INDEX_PATH = '../models/edge_index.pt'\n",
    "N_USERS = 943\n",
    "N_ITEMS = 1546"
   ]
  },
  {
   "cell_type": "code",
   "execution_count": 62,
   "metadata": {},
   "outputs": [],
   "source": [
    "device = torch.device(\"cuda:0\" if torch.cuda.is_available() else \"cpu\")"
   ]
  },
  {
   "cell_type": "code",
   "execution_count": 98,
   "metadata": {},
   "outputs": [],
   "source": [
    "test_df = pd.read_csv(INTERIM_U_TEST_PATH, sep='\\t')\n",
    "train_df = pd.read_csv(INTERIM_U_TRAIN_PATH, sep='\\t')"
   ]
  },
  {
   "cell_type": "code",
   "execution_count": 64,
   "metadata": {},
   "outputs": [],
   "source": [
    "edge_index = torch.load(EDGE_INDEX_PATH)"
   ]
  },
  {
   "cell_type": "code",
   "execution_count": 65,
   "metadata": {},
   "outputs": [],
   "source": [
    "def data_loader(data, batch_size, n_usr, n_itm):\n",
    "\n",
    "    def sample_neg(x):\n",
    "        while True:\n",
    "            neg_id = random.randint(0, n_itm - 1)\n",
    "            if neg_id not in x:\n",
    "                return neg_id\n",
    "\n",
    "    interected_items_df = data.groupby('user_id_idx')['item_id_idx'].apply(list).reset_index()\n",
    "    indices = [x for x in range(n_usr)]\n",
    "\n",
    "    if n_usr < batch_size:\n",
    "        users = [random.choice(indices) for _ in range(batch_size)]\n",
    "    else:\n",
    "        users = random.sample(indices, batch_size)\n",
    "    users.sort()\n",
    "    users_df = pd.DataFrame(users,columns = ['users'])\n",
    "\n",
    "    interected_items_df = pd.merge(interected_items_df, users_df, how = 'right', left_on = 'user_id_idx', right_on = 'users')\n",
    "    pos_items = interected_items_df['item_id_idx'].apply(lambda x : random.choice(x)).values\n",
    "    neg_items = interected_items_df['item_id_idx'].apply(lambda x: sample_neg(x)).values\n",
    "\n",
    "    return (\n",
    "        torch.LongTensor(list(users)).to(device), \n",
    "        torch.LongTensor(list(pos_items)).to(device) + n_usr, \n",
    "        torch.LongTensor(list(neg_items)).to(device) + n_usr\n",
    "    )"
   ]
  },
  {
   "cell_type": "code",
   "execution_count": 66,
   "metadata": {},
   "outputs": [],
   "source": [
    "class LightGCNConv(MessagePassing):\n",
    "  def __init__(self, **kwargs):  \n",
    "    super().__init__(aggr='add')\n",
    "\n",
    "  def forward(self, x, edge_index):\n",
    "    # Compute normalization\n",
    "    from_, to_ = edge_index\n",
    "    deg = degree(to_, x.size(0), dtype=x.dtype)\n",
    "    deg_inv_sqrt = deg.pow(-0.5)\n",
    "    deg_inv_sqrt[deg_inv_sqrt == float('inf')] = 0\n",
    "    norm = deg_inv_sqrt[from_] * deg_inv_sqrt[to_]\n",
    "\n",
    "    # Start propagating messages (no update after aggregation)\n",
    "    return self.propagate(edge_index, x=x, norm=norm)\n",
    "\n",
    "  def message(self, x_j, norm):\n",
    "    return norm.view(-1, 1) * x_j"
   ]
  },
  {
   "cell_type": "code",
   "execution_count": 67,
   "metadata": {},
   "outputs": [],
   "source": [
    "class RecSysGNN(nn.Module):\n",
    "  def __init__(\n",
    "      self,\n",
    "      latent_dim, \n",
    "      num_layers,\n",
    "      num_users,\n",
    "      num_items,\n",
    "      model, # 'NGCF' or 'LightGCN'\n",
    "      dropout=0.1 # Only used in NGCF\n",
    "  ):\n",
    "    super(RecSysGNN, self).__init__()\n",
    "\n",
    "    assert (model == 'NGCF' or model == 'LightGCN'), \\\n",
    "        'Model must be NGCF or LightGCN'\n",
    "    self.model = model\n",
    "    self.embedding = nn.Embedding(num_users + num_items, latent_dim)\n",
    "\n",
    "    self.convs = nn.ModuleList(LightGCNConv() for _ in range(num_layers))\n",
    "\n",
    "    self.init_parameters()\n",
    "\n",
    "\n",
    "  def init_parameters(self):\n",
    "    if self.model == 'NGCF':\n",
    "      nn.init.xavier_uniform_(self.embedding.weight, gain=1)\n",
    "    else:\n",
    "      # Authors of LightGCN report higher results with normal initialization\n",
    "      nn.init.normal_(self.embedding.weight, std=0.1) \n",
    "\n",
    "\n",
    "  def forward(self, edge_index):\n",
    "    emb0 = self.embedding.weight\n",
    "    embs = [emb0]\n",
    "\n",
    "    emb = emb0\n",
    "    for conv in self.convs:\n",
    "      emb = conv(x=emb, edge_index=edge_index)\n",
    "      embs.append(emb)\n",
    "\n",
    "    out = (\n",
    "      torch.cat(embs, dim=-1) if self.model == 'NGCF' \n",
    "      else torch.mean(torch.stack(embs, dim=0), dim=0)\n",
    "    )\n",
    "    \n",
    "    return emb0, out\n",
    "\n",
    "\n",
    "  def encode_minibatch(self, users, pos_items, neg_items, edge_index):\n",
    "    emb0, out = self(edge_index)\n",
    "    return (\n",
    "        out[users], \n",
    "        out[pos_items], \n",
    "        out[neg_items], \n",
    "        emb0[users],\n",
    "        emb0[pos_items],\n",
    "        emb0[neg_items]\n",
    "    )"
   ]
  },
  {
   "cell_type": "code",
   "execution_count": 100,
   "metadata": {},
   "outputs": [],
   "source": [
    "def get_metrics(user_Embed_wts, item_Embed_wts, test_data, K):\n",
    "  test_user_ids = torch.LongTensor(test_data['user_id_idx'].unique())\n",
    "  # compute the score of all user-item pairs\n",
    "  relevance_score = torch.matmul(user_Embed_wts, torch.transpose(item_Embed_wts,0, 1))\n",
    "\n",
    "  # create dense tensor of all user-item interactions\n",
    "  i = torch.stack((\n",
    "    torch.LongTensor(train_df['user_id_idx'].values),\n",
    "    torch.LongTensor(train_df['item_id_idx'].values)\n",
    "  ))\n",
    "  v = torch.ones((len(train_df)), dtype=torch.float64)\n",
    "  interactions_t = torch.sparse.FloatTensor(i, v, (N_USERS, N_ITEMS))\\\n",
    "      .to_dense().to(device)\n",
    "  \n",
    "  # mask out training user-item interactions from metric computation\n",
    "  relevance_score = torch.mul(relevance_score, (1 - interactions_t))\n",
    "\n",
    "  # compute top scoring items for each user\n",
    "  topk_relevance_indices = torch.topk(relevance_score, K).indices\n",
    "  topk_relevance_indices_df = pd.DataFrame(topk_relevance_indices.cpu().numpy(),columns =['top_indx_'+str(x+1) for x in range(K)])\n",
    "  topk_relevance_indices_df['user_ID'] = topk_relevance_indices_df.index\n",
    "  topk_relevance_indices_df['top_rlvnt_itm'] = topk_relevance_indices_df[['top_indx_'+str(x+1) for x in range(K)]].values.tolist()\n",
    "  topk_relevance_indices_df = topk_relevance_indices_df[['user_ID','top_rlvnt_itm']]\n",
    "\n",
    "  # measure overlap between recommended (top-scoring) and held-out user-item \n",
    "  # interactions\n",
    "  test_interacted_items = test_data.groupby('user_id_idx')['item_id_idx'].apply(list).reset_index()\n",
    "  metrics_df = pd.merge(test_interacted_items,topk_relevance_indices_df, how= 'left', left_on = 'user_id_idx',right_on = ['user_ID'])\n",
    "  metrics_df['intrsctn_itm'] = [list(set(a).intersection(b)) for a, b in zip(metrics_df.item_id_idx, metrics_df.top_rlvnt_itm)]\n",
    "\n",
    "  metrics_df['recall'] = metrics_df.apply(lambda x : len(x['intrsctn_itm'])/len(x['item_id_idx']), axis = 1) \n",
    "  metrics_df['precision'] = metrics_df.apply(lambda x : len(x['intrsctn_itm'])/K, axis = 1)\n",
    "\n",
    "  return metrics_df['recall'].mean(), metrics_df['precision'].mean()"
   ]
  },
  {
   "cell_type": "code",
   "execution_count": 101,
   "metadata": {},
   "outputs": [],
   "source": [
    "latent_dim = 64\n",
    "n_layers = 3 \n",
    "\n",
    "EPOCHS = 5\n",
    "BATCH_SIZE = 1024\n",
    "K = 20"
   ]
  },
  {
   "cell_type": "code",
   "execution_count": 102,
   "metadata": {},
   "outputs": [],
   "source": [
    "def eval(model):\n",
    "  recall_list = []\n",
    "  precision_list = []\n",
    "\n",
    "  for epoch in tqdm(range(EPOCHS)):\n",
    "\n",
    "      model.eval()\n",
    "      with torch.no_grad():\n",
    "          _, out = model(edge_index)\n",
    "          final_user_Embed, final_item_Embed = torch.split(out, (N_USERS, N_ITEMS))\n",
    "          test_topK_recall,  test_topK_precision = get_metrics(\n",
    "            final_user_Embed, final_item_Embed, test_df, K\n",
    "          )\n",
    "\n",
    "      recall_list.append(round(test_topK_recall,4))\n",
    "      precision_list.append(round(test_topK_precision,4))\n",
    "\n",
    "  return (\n",
    "    recall_list, \n",
    "    precision_list\n",
    "  )"
   ]
  },
  {
   "cell_type": "code",
   "execution_count": 103,
   "metadata": {},
   "outputs": [
    {
     "data": {
      "text/plain": [
       "<All keys matched successfully>"
      ]
     },
     "execution_count": 103,
     "metadata": {},
     "output_type": "execute_result"
    }
   ],
   "source": [
    "lightgcn = RecSysGNN(\n",
    "  latent_dim=latent_dim, \n",
    "  num_layers=n_layers,\n",
    "  num_users=N_USERS,\n",
    "  num_items=N_ITEMS,\n",
    "  model='LightGCN'\n",
    ")\n",
    "lightgcn.to(device)\n",
    "lightgcn.load_state_dict(torch.load(MODEL_PATH))"
   ]
  },
  {
   "cell_type": "code",
   "execution_count": 104,
   "metadata": {},
   "outputs": [
    {
     "data": {
      "application/vnd.jupyter.widget-view+json": {
       "model_id": "5c7e2c71c67047f8a7a8408477f238fe",
       "version_major": 2,
       "version_minor": 0
      },
      "text/plain": [
       "  0%|          | 0/5 [00:00<?, ?it/s]"
      ]
     },
     "metadata": {},
     "output_type": "display_data"
    }
   ],
   "source": [
    "light_recall, light_precision = eval(lightgcn)"
   ]
  },
  {
   "cell_type": "code",
   "execution_count": 106,
   "metadata": {},
   "outputs": [
    {
     "name": "stdout",
     "output_type": "stream",
     "text": [
      "Recall: 0.354.\n",
      "Preccision: 0.2381.\n"
     ]
    }
   ],
   "source": [
    "print(f\"Recall: {max(light_recall)}.\\nPreccision: {max(light_precision)}.\")"
   ]
  }
 ],
 "metadata": {
  "kernelspec": {
   "display_name": "base",
   "language": "python",
   "name": "python3"
  },
  "language_info": {
   "codemirror_mode": {
    "name": "ipython",
    "version": 3
   },
   "file_extension": ".py",
   "mimetype": "text/x-python",
   "name": "python",
   "nbconvert_exporter": "python",
   "pygments_lexer": "ipython3",
   "version": "3.10.10"
  }
 },
 "nbformat": 4,
 "nbformat_minor": 2
}
